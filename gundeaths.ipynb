{
 "cells": [
  {
   "cell_type": "code",
   "execution_count": 1,
   "metadata": {
    "collapsed": false
   },
   "outputs": [],
   "source": [
    "import csv\n",
    "f = open(\"guns.csv\", \"r\")\n",
    "csv = csv.reader(f)\n",
    "data = list(csv)\n",
    "header = []\n",
    "for h in data[:1][0:]:\n",
    "    if h != ' ': \n",
    "        header.append(h)\n",
    "data = data[1:]\n",
    "first5 = data[:5]\n"
   ]
  },
  {
   "cell_type": "code",
   "execution_count": 2,
   "metadata": {
    "collapsed": false
   },
   "outputs": [
    {
     "data": {
      "text/plain": [
       "[['',\n",
       "  'year',\n",
       "  'month',\n",
       "  'intent',\n",
       "  'police',\n",
       "  'sex',\n",
       "  'age',\n",
       "  'race',\n",
       "  'hispanic',\n",
       "  'place',\n",
       "  'education']]"
      ]
     },
     "execution_count": 2,
     "metadata": {},
     "output_type": "execute_result"
    }
   ],
   "source": [
    "header"
   ]
  },
  {
   "cell_type": "code",
   "execution_count": 3,
   "metadata": {
    "collapsed": false
   },
   "outputs": [
    {
     "data": {
      "text/plain": [
       "['01', '01', '01', '02']"
      ]
     },
     "execution_count": 3,
     "metadata": {},
     "output_type": "execute_result"
    }
   ],
   "source": [
    "years = [year[1] for year in data]\n",
    "months = [month[2] for month in data]\n",
    "months[:4]"
   ]
  },
  {
   "cell_type": "code",
   "execution_count": 4,
   "metadata": {
    "collapsed": false
   },
   "outputs": [],
   "source": [
    "import datetime\n",
    "dates = [datetime.datetime(year=int(row[1]), month=int(row[2]), day = 1) for row in data]"
   ]
  },
  {
   "cell_type": "code",
   "execution_count": 5,
   "metadata": {
    "collapsed": false
   },
   "outputs": [
    {
     "data": {
      "text/plain": [
       "[datetime.datetime(2012, 1, 1, 0, 0),\n",
       " datetime.datetime(2012, 1, 1, 0, 0),\n",
       " datetime.datetime(2012, 1, 1, 0, 0),\n",
       " datetime.datetime(2012, 2, 1, 0, 0)]"
      ]
     },
     "execution_count": 5,
     "metadata": {},
     "output_type": "execute_result"
    }
   ],
   "source": [
    "dates[:4]"
   ]
  },
  {
   "cell_type": "code",
   "execution_count": 6,
   "metadata": {
    "collapsed": false,
    "scrolled": true
   },
   "outputs": [],
   "source": [
    "date_counts = {}\n",
    "\n",
    "for date in dates:\n",
    "    if date in date_counts:\n",
    "        date_counts[date] += 1\n",
    "    else:\n",
    "        date_counts[date] = 1\n"
   ]
  },
  {
   "cell_type": "code",
   "execution_count": 7,
   "metadata": {
    "collapsed": false
   },
   "outputs": [
    {
     "name": "stdout",
     "output_type": "stream",
     "text": [
      "['2012', '2012', '2012', '2012']\n"
     ]
    }
   ],
   "source": [
    "print(years[:4])"
   ]
  },
  {
   "cell_type": "code",
   "execution_count": 8,
   "metadata": {
    "collapsed": false
   },
   "outputs": [],
   "source": [
    "year_counts = {}\n",
    "\n",
    "for year in years:\n",
    "    if year in year_counts:\n",
    "        year_counts[year] += 1\n",
    "    else:\n",
    "        year_counts[year] = 1"
   ]
  },
  {
   "cell_type": "code",
   "execution_count": 9,
   "metadata": {
    "collapsed": false
   },
   "outputs": [
    {
     "name": "stdout",
     "output_type": "stream",
     "text": [
      "{'2012': 33563, '2013': 33636, '2014': 33599}\n"
     ]
    }
   ],
   "source": [
    "print(year_counts)"
   ]
  },
  {
   "cell_type": "code",
   "execution_count": 10,
   "metadata": {
    "collapsed": false
   },
   "outputs": [
    {
     "data": {
      "text/plain": [
       "{'2012': 33563, '2013': 33636, '2014': 33599}"
      ]
     },
     "execution_count": 10,
     "metadata": {},
     "output_type": "execute_result"
    }
   ],
   "source": [
    "year_counts"
   ]
  },
  {
   "cell_type": "code",
   "execution_count": 11,
   "metadata": {
    "collapsed": false
   },
   "outputs": [
    {
     "data": {
      "text/plain": [
       "{'01', '02', '03', '04', '05', '06', '07', '08', '09', '10', '11', '12'}"
      ]
     },
     "execution_count": 11,
     "metadata": {},
     "output_type": "execute_result"
    }
   ],
   "source": [
    "setyears = set(years)\n",
    "setmonths = set(months)\n",
    "\n",
    "setyears\n",
    "setmonths"
   ]
  },
  {
   "cell_type": "code",
   "execution_count": 12,
   "metadata": {
    "collapsed": false
   },
   "outputs": [],
   "source": [
    "race_counts = {}\n",
    "\n",
    "races = [race[7] for race in data]\n",
    "setRaces = set(races)\n",
    "\n",
    "for race in races:\n",
    "    if race in race_counts:\n",
    "        race_counts[race] += 1\n",
    "    else:\n",
    "        race_counts[race] = 1"
   ]
  },
  {
   "cell_type": "code",
   "execution_count": 13,
   "metadata": {
    "collapsed": false
   },
   "outputs": [
    {
     "data": {
      "text/plain": [
       "{'Asian/Pacific Islander': 1326,\n",
       " 'Black': 23296,\n",
       " 'Hispanic': 9022,\n",
       " 'Native American/Native Alaskan': 917,\n",
       " 'White': 66237}"
      ]
     },
     "execution_count": 13,
     "metadata": {},
     "output_type": "execute_result"
    }
   ],
   "source": [
    "race_counts"
   ]
  },
  {
   "cell_type": "markdown",
   "metadata": {},
   "source": [
    "# By Columns"
   ]
  },
  {
   "cell_type": "code",
   "execution_count": 14,
   "metadata": {
    "collapsed": true
   },
   "outputs": [],
   "source": [
    "import csv\n",
    "f = open(\"guns.csv\", \"r\")\n",
    "csv = csv.reader(f)\n",
    "data = list(csv)\n",
    "header = data[:1]\n",
    "data = data[1:]\n",
    "first5 = data[:5]"
   ]
  },
  {
   "cell_type": "code",
   "execution_count": 15,
   "metadata": {
    "collapsed": true
   },
   "outputs": [],
   "source": [
    "sex_counts = {}\n",
    "\n",
    "sexes = [sex[5] for sex in data]\n",
    "\n",
    "for sex in sexes:\n",
    "    if sex in sex_counts:\n",
    "        sex_counts[sex] += 1\n",
    "    else:\n",
    "        sex_counts[sex] = 1"
   ]
  },
  {
   "cell_type": "code",
   "execution_count": 38,
   "metadata": {
    "collapsed": false
   },
   "outputs": [
    {
     "data": {
      "text/plain": [
       "{'F': 14449, 'M': 86349}"
      ]
     },
     "execution_count": 38,
     "metadata": {},
     "output_type": "execute_result"
    }
   ],
   "source": [
    "sex_counts"
   ]
  },
  {
   "cell_type": "code",
   "execution_count": 37,
   "metadata": {
    "collapsed": false
   },
   "outputs": [
    {
     "data": {
      "text/plain": [
       "71900"
      ]
     },
     "execution_count": 37,
     "metadata": {},
     "output_type": "execute_result"
    }
   ],
   "source": [
    "\n",
    "\n",
    "more_m_than_f = sex_counts['M'] - sex_counts['F']\n",
    "\n",
    "more_m_than_f"
   ]
  },
  {
   "cell_type": "code",
   "execution_count": 17,
   "metadata": {
    "collapsed": false
   },
   "outputs": [
    {
     "data": {
      "text/plain": [
       "[['cen42010',\n",
       "  'April 1, 2010 Census',\n",
       "  'totsex',\n",
       "  'Both Sexes',\n",
       "  'tothisp',\n",
       "  'Total',\n",
       "  '0100000US',\n",
       "  '',\n",
       "  'United States',\n",
       "  '308745538',\n",
       "  '197318956',\n",
       "  '44618105',\n",
       "  '40250635',\n",
       "  '3739506',\n",
       "  '15159516',\n",
       "  '674625',\n",
       "  '6984195']]"
      ]
     },
     "execution_count": 17,
     "metadata": {},
     "output_type": "execute_result"
    }
   ],
   "source": [
    "import csv\n",
    "census = csv.reader(open(\"census.csv\", \"r\"))\n",
    "census = list(census)\n",
    "\n",
    "censusHeaders = census[:1]\n",
    "censusData = census[1:]\n",
    "censusData"
   ]
  },
  {
   "cell_type": "code",
   "execution_count": 18,
   "metadata": {
    "collapsed": false
   },
   "outputs": [
    {
     "data": {
      "text/plain": [
       "[['Id',\n",
       "  'Year',\n",
       "  'Id',\n",
       "  'Sex',\n",
       "  'Id',\n",
       "  'Hispanic Origin',\n",
       "  'Id',\n",
       "  'Id2',\n",
       "  'Geography',\n",
       "  'Total',\n",
       "  'Race Alone - White',\n",
       "  'Race Alone - Hispanic',\n",
       "  'Race Alone - Black or African American',\n",
       "  'Race Alone - American Indian and Alaska Native',\n",
       "  'Race Alone - Asian',\n",
       "  'Race Alone - Native Hawaiian and Other Pacific Islander',\n",
       "  'Two or More Races']]"
      ]
     },
     "execution_count": 18,
     "metadata": {},
     "output_type": "execute_result"
    }
   ],
   "source": [
    "censusHeaders"
   ]
  },
  {
   "cell_type": "code",
   "execution_count": 19,
   "metadata": {
    "collapsed": true
   },
   "outputs": [],
   "source": [
    "mapping = {\n",
    "    \"Asian/Pacific Islander\": 15159516 + 674625,\n",
    "    \"Native American/Native Alaskan\": 3739506,\n",
    "    \"Black\": 40250635,\n",
    "    \"Hispanic\": 44618105,\n",
    "    \"White\": 197318956\n",
    "}"
   ]
  },
  {
   "cell_type": "code",
   "execution_count": 20,
   "metadata": {
    "collapsed": false
   },
   "outputs": [],
   "source": [
    "race_per_hundredk = {} \n",
    "\n",
    "race_per_hundredk = {}\n",
    "for k,v in race_counts.items():\n",
    "    race_per_hundredk[k] = str(round((v / mapping[k]) * 100000, 2)) + \" out of every one hundred thousand\"\n",
    "\n"
   ]
  },
  {
   "cell_type": "code",
   "execution_count": 21,
   "metadata": {
    "collapsed": false
   },
   "outputs": [
    {
     "data": {
      "text/plain": [
       "{'Asian/Pacific Islander': '8.37 out of every one hundred thousand',\n",
       " 'Black': '57.88 out of every one hundred thousand',\n",
       " 'Hispanic': '20.22 out of every one hundred thousand',\n",
       " 'Native American/Native Alaskan': '24.52 out of every one hundred thousand',\n",
       " 'White': '33.57 out of every one hundred thousand'}"
      ]
     },
     "execution_count": 21,
     "metadata": {},
     "output_type": "execute_result"
    }
   ],
   "source": [
    "race_per_hundredk"
   ]
  },
  {
   "cell_type": "code",
   "execution_count": 22,
   "metadata": {
    "collapsed": true
   },
   "outputs": [],
   "source": [
    "intents = [d[3] for d in data]"
   ]
  },
  {
   "cell_type": "code",
   "execution_count": 23,
   "metadata": {
    "collapsed": false,
    "scrolled": true
   },
   "outputs": [
    {
     "data": {
      "text/plain": [
       "['Suicide',\n",
       " 'Suicide',\n",
       " 'Suicide',\n",
       " 'Suicide',\n",
       " 'Suicide',\n",
       " 'Suicide',\n",
       " 'Undetermined',\n",
       " 'Suicide',\n",
       " 'Accidental',\n",
       " 'Suicide',\n",
       " 'Suicide',\n",
       " 'Suicide',\n",
       " 'Suicide',\n",
       " 'Suicide',\n",
       " 'Homicide',\n",
       " 'Suicide',\n",
       " 'Suicide',\n",
       " 'Suicide',\n",
       " 'Homicide',\n",
       " 'Suicide',\n",
       " 'Suicide',\n",
       " 'Suicide',\n",
       " 'Homicide',\n",
       " 'Suicide',\n",
       " 'Homicide',\n",
       " 'Homicide',\n",
       " 'Suicide',\n",
       " 'Suicide',\n",
       " 'Suicide',\n",
       " 'Homicide',\n",
       " 'Suicide',\n",
       " 'Suicide',\n",
       " 'Suicide',\n",
       " 'Suicide',\n",
       " 'Homicide',\n",
       " 'Undetermined',\n",
       " 'Suicide',\n",
       " 'Suicide',\n",
       " 'Suicide',\n",
       " 'Suicide',\n",
       " 'Suicide',\n",
       " 'Homicide',\n",
       " 'Suicide',\n",
       " 'Suicide',\n",
       " 'Suicide',\n",
       " 'Suicide',\n",
       " 'Suicide',\n",
       " 'Homicide',\n",
       " 'Homicide',\n",
       " 'Homicide',\n",
       " 'Suicide',\n",
       " 'Suicide',\n",
       " 'Suicide',\n",
       " 'Undetermined',\n",
       " 'Suicide',\n",
       " 'Suicide',\n",
       " 'Accidental',\n",
       " 'Homicide',\n",
       " 'Suicide',\n",
       " 'Homicide',\n",
       " 'Suicide',\n",
       " 'Homicide',\n",
       " 'Suicide',\n",
       " 'Suicide',\n",
       " 'Suicide',\n",
       " 'Suicide',\n",
       " 'Suicide',\n",
       " 'Suicide',\n",
       " 'Suicide',\n",
       " 'Suicide',\n",
       " 'Suicide',\n",
       " 'Accidental',\n",
       " 'Suicide',\n",
       " 'Accidental',\n",
       " 'Suicide',\n",
       " 'Undetermined',\n",
       " 'Suicide',\n",
       " 'Suicide',\n",
       " 'Suicide',\n",
       " 'Homicide',\n",
       " 'Suicide',\n",
       " 'Suicide',\n",
       " 'Suicide',\n",
       " 'Homicide',\n",
       " 'Suicide',\n",
       " 'Homicide',\n",
       " 'Suicide',\n",
       " 'Suicide',\n",
       " 'Suicide',\n",
       " 'Suicide',\n",
       " 'Undetermined',\n",
       " 'Suicide',\n",
       " 'Homicide',\n",
       " 'Accidental',\n",
       " 'Suicide',\n",
       " 'Suicide',\n",
       " 'Suicide',\n",
       " 'Homicide',\n",
       " 'Suicide',\n",
       " 'Undetermined',\n",
       " 'Suicide',\n",
       " 'Suicide',\n",
       " 'Suicide',\n",
       " 'Homicide',\n",
       " 'Suicide',\n",
       " 'Suicide',\n",
       " 'Suicide',\n",
       " 'Suicide',\n",
       " 'Suicide',\n",
       " 'Suicide',\n",
       " 'Suicide',\n",
       " 'Suicide',\n",
       " 'Suicide',\n",
       " 'Suicide',\n",
       " 'Suicide',\n",
       " 'Suicide',\n",
       " 'Suicide',\n",
       " 'Suicide',\n",
       " 'Suicide',\n",
       " 'Suicide',\n",
       " 'Suicide',\n",
       " 'Suicide',\n",
       " 'Suicide',\n",
       " 'Suicide',\n",
       " 'Suicide',\n",
       " 'Homicide',\n",
       " 'Undetermined',\n",
       " 'Suicide',\n",
       " 'Suicide',\n",
       " 'Suicide',\n",
       " 'Accidental',\n",
       " 'Suicide',\n",
       " 'Suicide',\n",
       " 'Undetermined',\n",
       " 'Suicide',\n",
       " 'Suicide',\n",
       " 'Homicide',\n",
       " 'Suicide',\n",
       " 'Suicide',\n",
       " 'Accidental',\n",
       " 'Homicide',\n",
       " 'Suicide',\n",
       " 'Suicide',\n",
       " 'Suicide',\n",
       " 'Suicide',\n",
       " 'Homicide',\n",
       " 'Suicide',\n",
       " 'Undetermined',\n",
       " 'Suicide',\n",
       " 'Suicide',\n",
       " 'Suicide',\n",
       " 'Homicide',\n",
       " 'Suicide',\n",
       " 'Suicide',\n",
       " 'Suicide',\n",
       " 'Suicide',\n",
       " 'Homicide',\n",
       " 'Homicide',\n",
       " 'Suicide',\n",
       " 'Homicide',\n",
       " 'Suicide',\n",
       " 'Homicide',\n",
       " 'Homicide',\n",
       " 'Homicide',\n",
       " 'Homicide',\n",
       " 'Suicide',\n",
       " 'Homicide',\n",
       " 'Suicide',\n",
       " 'Undetermined',\n",
       " 'Homicide',\n",
       " 'Suicide',\n",
       " 'Suicide',\n",
       " 'Homicide',\n",
       " 'Suicide',\n",
       " 'Suicide',\n",
       " 'Homicide',\n",
       " 'Homicide',\n",
       " 'Suicide',\n",
       " 'Suicide',\n",
       " 'Homicide',\n",
       " 'Suicide',\n",
       " 'Suicide',\n",
       " 'Homicide',\n",
       " 'Suicide',\n",
       " 'Homicide',\n",
       " 'Homicide',\n",
       " 'Suicide',\n",
       " 'Homicide',\n",
       " 'Homicide',\n",
       " 'Homicide',\n",
       " 'Homicide',\n",
       " 'Homicide',\n",
       " 'Homicide',\n",
       " 'Suicide',\n",
       " 'Homicide',\n",
       " 'Suicide',\n",
       " 'Homicide',\n",
       " 'Homicide',\n",
       " 'Homicide',\n",
       " 'Suicide',\n",
       " 'Homicide',\n",
       " 'Homicide',\n",
       " 'Suicide',\n",
       " 'Suicide',\n",
       " 'Suicide',\n",
       " 'Homicide',\n",
       " 'Homicide',\n",
       " 'Suicide',\n",
       " 'Homicide',\n",
       " 'Suicide',\n",
       " 'Suicide',\n",
       " 'Homicide',\n",
       " 'Homicide',\n",
       " 'Suicide',\n",
       " 'Suicide',\n",
       " 'Homicide',\n",
       " 'Homicide',\n",
       " 'Suicide',\n",
       " 'Suicide',\n",
       " 'Suicide',\n",
       " 'Suicide',\n",
       " 'Suicide',\n",
       " 'Homicide',\n",
       " 'Suicide',\n",
       " 'Suicide',\n",
       " 'Suicide',\n",
       " 'Suicide',\n",
       " 'Suicide',\n",
       " 'Suicide',\n",
       " 'Homicide',\n",
       " 'Homicide',\n",
       " 'Suicide',\n",
       " 'Accidental',\n",
       " 'Homicide',\n",
       " 'Suicide',\n",
       " 'Suicide',\n",
       " 'Suicide',\n",
       " 'Suicide',\n",
       " 'Suicide',\n",
       " 'Suicide',\n",
       " 'Suicide',\n",
       " 'Suicide',\n",
       " 'Suicide',\n",
       " 'Suicide',\n",
       " 'Homicide',\n",
       " 'Suicide',\n",
       " 'Suicide',\n",
       " 'Homicide',\n",
       " 'Suicide',\n",
       " 'Homicide',\n",
       " 'Suicide',\n",
       " 'Homicide',\n",
       " 'Homicide',\n",
       " 'Suicide',\n",
       " 'Suicide',\n",
       " 'Homicide',\n",
       " 'Suicide',\n",
       " 'Suicide',\n",
       " 'Suicide',\n",
       " 'Suicide',\n",
       " 'Suicide',\n",
       " 'Suicide',\n",
       " 'Undetermined',\n",
       " 'Suicide',\n",
       " 'Suicide',\n",
       " 'Suicide',\n",
       " 'Homicide',\n",
       " 'Suicide',\n",
       " 'Suicide',\n",
       " 'Suicide',\n",
       " 'Suicide',\n",
       " 'Suicide',\n",
       " 'Homicide',\n",
       " 'Homicide',\n",
       " 'Suicide',\n",
       " 'Suicide',\n",
       " 'Suicide',\n",
       " 'Suicide',\n",
       " 'Suicide',\n",
       " 'Suicide',\n",
       " 'Suicide',\n",
       " 'Homicide',\n",
       " 'Suicide',\n",
       " 'Suicide',\n",
       " 'Homicide',\n",
       " 'Suicide',\n",
       " 'Suicide',\n",
       " 'Suicide',\n",
       " 'Suicide',\n",
       " 'Accidental',\n",
       " 'Suicide',\n",
       " 'Homicide',\n",
       " 'Suicide',\n",
       " 'Suicide',\n",
       " 'Suicide',\n",
       " 'Homicide',\n",
       " 'Homicide',\n",
       " 'Homicide',\n",
       " 'Suicide',\n",
       " 'Suicide',\n",
       " 'Suicide',\n",
       " 'Suicide',\n",
       " 'Suicide',\n",
       " 'Suicide',\n",
       " 'Homicide',\n",
       " 'Suicide',\n",
       " 'Suicide',\n",
       " 'Suicide',\n",
       " 'Homicide',\n",
       " 'Suicide',\n",
       " 'Suicide',\n",
       " 'Homicide',\n",
       " 'Homicide',\n",
       " 'Suicide',\n",
       " 'Suicide',\n",
       " 'Suicide',\n",
       " 'Suicide',\n",
       " 'Accidental',\n",
       " 'Suicide',\n",
       " 'Suicide',\n",
       " 'Homicide',\n",
       " 'Suicide',\n",
       " 'Suicide',\n",
       " 'Suicide',\n",
       " 'Suicide',\n",
       " 'Homicide',\n",
       " 'Suicide',\n",
       " 'Suicide',\n",
       " 'Suicide',\n",
       " 'Homicide',\n",
       " 'Suicide',\n",
       " 'Suicide',\n",
       " 'Suicide',\n",
       " 'Homicide',\n",
       " 'Suicide',\n",
       " 'Homicide',\n",
       " 'Suicide',\n",
       " 'Suicide',\n",
       " 'Suicide',\n",
       " 'Suicide',\n",
       " 'Suicide',\n",
       " 'Homicide',\n",
       " 'Suicide',\n",
       " 'Homicide',\n",
       " 'Suicide',\n",
       " 'Suicide',\n",
       " 'Suicide',\n",
       " 'Suicide',\n",
       " 'Suicide',\n",
       " 'Suicide',\n",
       " 'Homicide',\n",
       " 'Suicide',\n",
       " 'Suicide',\n",
       " 'Homicide',\n",
       " 'Accidental',\n",
       " 'Suicide',\n",
       " 'Suicide',\n",
       " 'Suicide',\n",
       " 'Suicide',\n",
       " 'Undetermined',\n",
       " 'Homicide',\n",
       " 'Suicide',\n",
       " 'Suicide',\n",
       " 'Homicide',\n",
       " 'Accidental',\n",
       " 'Homicide',\n",
       " 'Suicide',\n",
       " 'Homicide',\n",
       " 'Homicide',\n",
       " 'Suicide',\n",
       " 'Homicide',\n",
       " 'Homicide',\n",
       " 'Suicide',\n",
       " 'Suicide',\n",
       " 'Suicide',\n",
       " 'Suicide',\n",
       " 'Suicide',\n",
       " 'Homicide',\n",
       " 'Suicide',\n",
       " 'Suicide',\n",
       " 'Suicide',\n",
       " 'Suicide',\n",
       " 'Suicide',\n",
       " 'Homicide',\n",
       " 'Homicide',\n",
       " 'Suicide',\n",
       " 'Homicide',\n",
       " 'Suicide',\n",
       " 'Suicide',\n",
       " 'Suicide',\n",
       " 'Suicide',\n",
       " 'Suicide',\n",
       " 'Homicide',\n",
       " 'Suicide',\n",
       " 'Suicide',\n",
       " 'Homicide',\n",
       " 'Suicide',\n",
       " 'Suicide',\n",
       " 'Suicide',\n",
       " 'Suicide',\n",
       " 'Suicide',\n",
       " 'Suicide',\n",
       " 'Suicide',\n",
       " 'Suicide',\n",
       " 'Suicide',\n",
       " 'Suicide',\n",
       " 'Homicide',\n",
       " 'Suicide',\n",
       " 'Suicide',\n",
       " 'Suicide',\n",
       " 'Suicide',\n",
       " 'Homicide',\n",
       " 'Homicide',\n",
       " 'Suicide',\n",
       " 'Suicide',\n",
       " 'Suicide',\n",
       " 'Homicide',\n",
       " 'Homicide',\n",
       " 'Homicide',\n",
       " 'Suicide',\n",
       " 'Suicide',\n",
       " 'Homicide',\n",
       " 'Suicide',\n",
       " 'Suicide',\n",
       " 'Homicide',\n",
       " 'Suicide',\n",
       " 'Suicide',\n",
       " 'Suicide',\n",
       " 'Accidental',\n",
       " 'Suicide',\n",
       " 'Suicide',\n",
       " 'Homicide',\n",
       " 'Homicide',\n",
       " 'Suicide',\n",
       " 'Suicide',\n",
       " 'Suicide',\n",
       " 'Suicide',\n",
       " 'Suicide',\n",
       " 'Homicide',\n",
       " 'Suicide',\n",
       " 'Homicide',\n",
       " 'Homicide',\n",
       " 'Homicide',\n",
       " 'Homicide',\n",
       " 'Suicide',\n",
       " 'Homicide',\n",
       " 'Suicide',\n",
       " 'Homicide',\n",
       " 'Suicide',\n",
       " 'Suicide',\n",
       " 'Suicide',\n",
       " 'Homicide',\n",
       " 'Suicide',\n",
       " 'Suicide',\n",
       " 'Suicide',\n",
       " 'Suicide',\n",
       " 'Homicide',\n",
       " 'Suicide',\n",
       " 'Homicide',\n",
       " 'Homicide',\n",
       " 'Homicide',\n",
       " 'Suicide',\n",
       " 'Accidental',\n",
       " 'Suicide',\n",
       " 'Suicide',\n",
       " 'Suicide',\n",
       " 'Suicide',\n",
       " 'Suicide',\n",
       " 'Suicide',\n",
       " 'Homicide',\n",
       " 'Homicide',\n",
       " 'Suicide',\n",
       " 'Homicide',\n",
       " 'Homicide',\n",
       " 'Suicide',\n",
       " 'Homicide',\n",
       " 'Homicide',\n",
       " 'Suicide',\n",
       " 'Suicide',\n",
       " 'Homicide',\n",
       " 'Suicide',\n",
       " 'Suicide',\n",
       " 'Suicide',\n",
       " 'Homicide',\n",
       " 'Homicide',\n",
       " 'Suicide',\n",
       " 'Homicide',\n",
       " 'Suicide',\n",
       " 'Suicide',\n",
       " 'Suicide',\n",
       " 'Suicide',\n",
       " 'Homicide',\n",
       " 'Suicide',\n",
       " 'Homicide',\n",
       " 'Homicide',\n",
       " 'Homicide',\n",
       " 'Homicide',\n",
       " 'Homicide',\n",
       " 'Suicide',\n",
       " 'Suicide',\n",
       " 'Homicide',\n",
       " 'Suicide',\n",
       " 'Homicide',\n",
       " 'Suicide',\n",
       " 'Homicide',\n",
       " 'Suicide',\n",
       " 'Suicide',\n",
       " 'Suicide',\n",
       " 'Homicide',\n",
       " 'Suicide',\n",
       " 'Homicide',\n",
       " 'Suicide',\n",
       " 'Homicide',\n",
       " 'Suicide',\n",
       " 'Homicide',\n",
       " 'Suicide',\n",
       " 'Suicide',\n",
       " 'Suicide',\n",
       " 'Suicide',\n",
       " 'Homicide',\n",
       " 'Suicide',\n",
       " 'Suicide',\n",
       " 'Suicide',\n",
       " 'Suicide',\n",
       " 'Suicide',\n",
       " 'Homicide',\n",
       " 'Suicide',\n",
       " 'Homicide',\n",
       " 'Suicide',\n",
       " 'Homicide',\n",
       " 'Suicide',\n",
       " 'Homicide',\n",
       " 'Suicide',\n",
       " 'Suicide',\n",
       " 'Homicide',\n",
       " 'Suicide',\n",
       " 'Suicide',\n",
       " 'Suicide',\n",
       " 'Homicide',\n",
       " 'Suicide',\n",
       " 'Suicide',\n",
       " 'Suicide',\n",
       " 'Suicide',\n",
       " 'Accidental',\n",
       " 'Suicide',\n",
       " 'Suicide',\n",
       " 'Suicide',\n",
       " 'Homicide',\n",
       " 'Suicide',\n",
       " 'Suicide',\n",
       " 'Suicide',\n",
       " 'Suicide',\n",
       " 'Homicide',\n",
       " 'Suicide',\n",
       " 'Homicide',\n",
       " 'Homicide',\n",
       " 'Suicide',\n",
       " 'Suicide',\n",
       " 'Suicide',\n",
       " 'Homicide',\n",
       " 'Accidental',\n",
       " 'Homicide',\n",
       " 'Suicide',\n",
       " 'Homicide',\n",
       " 'Homicide',\n",
       " 'Suicide',\n",
       " 'Homicide',\n",
       " 'Suicide',\n",
       " 'Homicide',\n",
       " 'Suicide',\n",
       " 'Suicide',\n",
       " 'Suicide',\n",
       " 'Suicide',\n",
       " 'Suicide',\n",
       " 'Homicide',\n",
       " 'Homicide',\n",
       " 'Suicide',\n",
       " 'Homicide',\n",
       " 'Suicide',\n",
       " 'Suicide',\n",
       " 'Homicide',\n",
       " 'Suicide',\n",
       " 'Homicide',\n",
       " 'Suicide',\n",
       " 'Suicide',\n",
       " 'Suicide',\n",
       " 'Suicide',\n",
       " 'Suicide',\n",
       " 'Suicide',\n",
       " 'Suicide',\n",
       " 'Homicide',\n",
       " 'Suicide',\n",
       " 'Homicide',\n",
       " 'Suicide',\n",
       " 'Suicide',\n",
       " 'Suicide',\n",
       " 'Suicide',\n",
       " 'Homicide',\n",
       " 'Suicide',\n",
       " 'Suicide',\n",
       " 'Suicide',\n",
       " 'Suicide',\n",
       " 'Suicide',\n",
       " 'Homicide',\n",
       " 'Homicide',\n",
       " 'Suicide',\n",
       " 'Suicide',\n",
       " 'Homicide',\n",
       " 'Suicide',\n",
       " 'Suicide',\n",
       " 'Accidental',\n",
       " 'Suicide',\n",
       " 'Suicide',\n",
       " 'Suicide',\n",
       " 'Homicide',\n",
       " 'Suicide',\n",
       " 'Homicide',\n",
       " 'Suicide',\n",
       " 'Suicide',\n",
       " 'Homicide',\n",
       " 'Suicide',\n",
       " 'Suicide',\n",
       " 'Suicide',\n",
       " 'Suicide',\n",
       " 'Suicide',\n",
       " 'Suicide',\n",
       " 'Suicide',\n",
       " 'Suicide',\n",
       " 'Accidental',\n",
       " 'Homicide',\n",
       " 'Suicide',\n",
       " 'Suicide',\n",
       " 'Suicide',\n",
       " 'Homicide',\n",
       " 'Homicide',\n",
       " 'Suicide',\n",
       " 'Suicide',\n",
       " 'Homicide',\n",
       " 'Suicide',\n",
       " 'Suicide',\n",
       " 'Suicide',\n",
       " 'Homicide',\n",
       " 'Suicide',\n",
       " 'Suicide',\n",
       " 'Homicide',\n",
       " 'Homicide',\n",
       " 'Suicide',\n",
       " 'Homicide',\n",
       " 'Suicide',\n",
       " 'Suicide',\n",
       " 'Homicide',\n",
       " 'Suicide',\n",
       " 'Suicide',\n",
       " 'Suicide',\n",
       " 'Suicide',\n",
       " 'Suicide',\n",
       " 'Homicide',\n",
       " 'Homicide',\n",
       " 'Homicide',\n",
       " 'Homicide',\n",
       " 'Suicide',\n",
       " 'Suicide',\n",
       " 'Homicide',\n",
       " 'Homicide',\n",
       " 'Suicide',\n",
       " 'Homicide',\n",
       " 'Suicide',\n",
       " 'Suicide',\n",
       " 'Suicide',\n",
       " 'Suicide',\n",
       " 'Suicide',\n",
       " 'Suicide',\n",
       " 'Homicide',\n",
       " 'Suicide',\n",
       " 'Suicide',\n",
       " 'Suicide',\n",
       " 'Homicide',\n",
       " 'Suicide',\n",
       " 'Homicide',\n",
       " 'Suicide',\n",
       " 'Homicide',\n",
       " 'Homicide',\n",
       " 'Suicide',\n",
       " 'Undetermined',\n",
       " 'Suicide',\n",
       " 'Suicide',\n",
       " 'Homicide',\n",
       " 'Suicide',\n",
       " 'Suicide',\n",
       " 'Suicide',\n",
       " 'Suicide',\n",
       " 'Homicide',\n",
       " 'Suicide',\n",
       " 'Homicide',\n",
       " 'Suicide',\n",
       " 'Homicide',\n",
       " 'Homicide',\n",
       " 'Suicide',\n",
       " 'Suicide',\n",
       " 'Homicide',\n",
       " 'Suicide',\n",
       " 'Undetermined',\n",
       " 'Suicide',\n",
       " 'Suicide',\n",
       " 'Suicide',\n",
       " 'Suicide',\n",
       " 'Suicide',\n",
       " 'Suicide',\n",
       " 'Suicide',\n",
       " 'Homicide',\n",
       " 'Homicide',\n",
       " 'Homicide',\n",
       " 'Homicide',\n",
       " 'Suicide',\n",
       " 'Homicide',\n",
       " 'Homicide',\n",
       " 'Suicide',\n",
       " 'Suicide',\n",
       " 'Suicide',\n",
       " 'Homicide',\n",
       " 'Homicide',\n",
       " 'Suicide',\n",
       " 'Homicide',\n",
       " 'Suicide',\n",
       " 'Suicide',\n",
       " 'Homicide',\n",
       " 'Homicide',\n",
       " 'Suicide',\n",
       " 'Homicide',\n",
       " 'Suicide',\n",
       " 'Suicide',\n",
       " 'Homicide',\n",
       " 'Homicide',\n",
       " 'Homicide',\n",
       " 'Suicide',\n",
       " 'Suicide',\n",
       " 'Homicide',\n",
       " 'Suicide',\n",
       " 'Suicide',\n",
       " 'Suicide',\n",
       " 'Suicide',\n",
       " 'Undetermined',\n",
       " 'Suicide',\n",
       " 'Undetermined',\n",
       " 'Suicide',\n",
       " 'Suicide',\n",
       " 'Suicide',\n",
       " 'Suicide',\n",
       " 'Suicide',\n",
       " 'Homicide',\n",
       " 'Homicide',\n",
       " 'Homicide',\n",
       " 'Homicide',\n",
       " 'Homicide',\n",
       " 'Homicide',\n",
       " 'Suicide',\n",
       " 'Homicide',\n",
       " 'Suicide',\n",
       " 'Suicide',\n",
       " 'Homicide',\n",
       " 'Suicide',\n",
       " 'Suicide',\n",
       " 'Suicide',\n",
       " 'Homicide',\n",
       " 'Suicide',\n",
       " 'Homicide',\n",
       " 'Suicide',\n",
       " 'Suicide',\n",
       " 'Suicide',\n",
       " 'Suicide',\n",
       " 'Suicide',\n",
       " 'Suicide',\n",
       " 'Suicide',\n",
       " 'Suicide',\n",
       " 'Suicide',\n",
       " 'Homicide',\n",
       " 'Homicide',\n",
       " 'Homicide',\n",
       " 'Suicide',\n",
       " 'Suicide',\n",
       " 'Homicide',\n",
       " 'Suicide',\n",
       " 'Homicide',\n",
       " 'Homicide',\n",
       " 'Homicide',\n",
       " 'Homicide',\n",
       " 'Suicide',\n",
       " 'Suicide',\n",
       " 'Suicide',\n",
       " 'Homicide',\n",
       " 'Suicide',\n",
       " 'Suicide',\n",
       " 'Suicide',\n",
       " 'Suicide',\n",
       " 'Suicide',\n",
       " 'Suicide',\n",
       " 'Suicide',\n",
       " 'Suicide',\n",
       " 'Suicide',\n",
       " 'Suicide',\n",
       " 'Suicide',\n",
       " 'Suicide',\n",
       " 'Suicide',\n",
       " 'Homicide',\n",
       " 'Suicide',\n",
       " 'Suicide',\n",
       " 'Suicide',\n",
       " 'Homicide',\n",
       " 'Suicide',\n",
       " 'Suicide',\n",
       " 'Suicide',\n",
       " 'Suicide',\n",
       " 'Homicide',\n",
       " 'Suicide',\n",
       " 'Suicide',\n",
       " 'Suicide',\n",
       " 'Homicide',\n",
       " 'Homicide',\n",
       " 'Homicide',\n",
       " 'Suicide',\n",
       " 'Suicide',\n",
       " 'Suicide',\n",
       " 'Suicide',\n",
       " 'Suicide',\n",
       " 'Suicide',\n",
       " 'Suicide',\n",
       " 'Accidental',\n",
       " 'Homicide',\n",
       " 'Homicide',\n",
       " 'Homicide',\n",
       " 'Homicide',\n",
       " 'Homicide',\n",
       " 'Suicide',\n",
       " 'Suicide',\n",
       " 'Suicide',\n",
       " 'Suicide',\n",
       " 'Homicide',\n",
       " 'Suicide',\n",
       " 'Homicide',\n",
       " 'Homicide',\n",
       " 'Homicide',\n",
       " 'Homicide',\n",
       " 'Suicide',\n",
       " 'Suicide',\n",
       " 'Accidental',\n",
       " 'Suicide',\n",
       " 'Suicide',\n",
       " 'Suicide',\n",
       " 'Suicide',\n",
       " 'Suicide',\n",
       " 'Homicide',\n",
       " 'Suicide',\n",
       " 'Suicide',\n",
       " 'Homicide',\n",
       " 'Suicide',\n",
       " 'Homicide',\n",
       " 'Homicide',\n",
       " 'Homicide',\n",
       " 'Suicide',\n",
       " 'Suicide',\n",
       " 'Homicide',\n",
       " 'Homicide',\n",
       " 'Suicide',\n",
       " 'Homicide',\n",
       " 'Suicide',\n",
       " 'Suicide',\n",
       " 'Suicide',\n",
       " 'Suicide',\n",
       " 'Homicide',\n",
       " 'Suicide',\n",
       " 'Homicide',\n",
       " 'Homicide',\n",
       " 'Homicide',\n",
       " 'Homicide',\n",
       " 'Homicide',\n",
       " 'Homicide',\n",
       " 'Suicide',\n",
       " 'Suicide',\n",
       " 'Suicide',\n",
       " 'Homicide',\n",
       " 'Homicide',\n",
       " 'Suicide',\n",
       " 'Suicide',\n",
       " 'Suicide',\n",
       " 'Homicide',\n",
       " 'Homicide',\n",
       " 'Homicide',\n",
       " 'Suicide',\n",
       " 'Homicide',\n",
       " 'Homicide',\n",
       " 'Homicide',\n",
       " 'Homicide',\n",
       " 'Homicide',\n",
       " 'Homicide',\n",
       " 'Suicide',\n",
       " 'Homicide',\n",
       " 'Homicide',\n",
       " 'Suicide',\n",
       " 'Suicide',\n",
       " 'Homicide',\n",
       " 'Suicide',\n",
       " 'Homicide',\n",
       " 'Homicide',\n",
       " 'Suicide',\n",
       " 'Homicide',\n",
       " 'Homicide',\n",
       " 'Homicide',\n",
       " 'Homicide',\n",
       " 'Homicide',\n",
       " 'Homicide',\n",
       " 'Suicide',\n",
       " 'Homicide',\n",
       " 'Suicide',\n",
       " 'Homicide',\n",
       " 'Homicide',\n",
       " 'Suicide',\n",
       " 'Homicide',\n",
       " 'Homicide',\n",
       " 'Homicide',\n",
       " 'Homicide',\n",
       " 'Suicide',\n",
       " 'Homicide',\n",
       " 'Suicide',\n",
       " 'Suicide',\n",
       " 'Suicide',\n",
       " 'Suicide',\n",
       " 'Suicide',\n",
       " 'Homicide',\n",
       " 'Homicide',\n",
       " 'Suicide',\n",
       " 'Accidental',\n",
       " 'Suicide',\n",
       " 'Homicide',\n",
       " 'Homicide',\n",
       " 'Suicide',\n",
       " 'Undetermined',\n",
       " 'Suicide',\n",
       " 'Homicide',\n",
       " 'Homicide',\n",
       " 'Suicide',\n",
       " 'Suicide',\n",
       " 'Homicide',\n",
       " 'Homicide',\n",
       " 'Homicide',\n",
       " 'Homicide',\n",
       " 'Homicide',\n",
       " 'Homicide',\n",
       " 'Homicide',\n",
       " 'Homicide',\n",
       " 'Homicide',\n",
       " 'Homicide',\n",
       " 'Homicide',\n",
       " 'Suicide',\n",
       " 'Suicide',\n",
       " 'Homicide',\n",
       " 'Suicide',\n",
       " 'Suicide',\n",
       " 'Homicide',\n",
       " 'Homicide',\n",
       " 'Homicide',\n",
       " 'Suicide',\n",
       " 'Homicide',\n",
       " 'Homicide',\n",
       " 'Suicide',\n",
       " 'Homicide',\n",
       " 'Homicide',\n",
       " 'Suicide',\n",
       " 'Suicide',\n",
       " 'Suicide',\n",
       " 'Suicide',\n",
       " 'Suicide',\n",
       " 'Suicide',\n",
       " 'Homicide',\n",
       " 'Suicide',\n",
       " 'Suicide',\n",
       " 'Suicide',\n",
       " 'Suicide',\n",
       " 'Homicide',\n",
       " 'Homicide',\n",
       " 'Suicide',\n",
       " 'Suicide',\n",
       " 'Suicide',\n",
       " 'Suicide',\n",
       " 'Homicide',\n",
       " 'Homicide',\n",
       " 'Homicide',\n",
       " 'Suicide',\n",
       " 'Suicide',\n",
       " 'Homicide',\n",
       " 'Suicide',\n",
       " 'Suicide',\n",
       " 'Suicide',\n",
       " 'Suicide',\n",
       " 'Suicide',\n",
       " 'Suicide',\n",
       " 'Suicide',\n",
       " 'Suicide',\n",
       " 'Suicide',\n",
       " 'Suicide',\n",
       " 'Homicide',\n",
       " ...]"
      ]
     },
     "execution_count": 23,
     "metadata": {},
     "output_type": "execute_result"
    }
   ],
   "source": [
    "intents"
   ]
  },
  {
   "cell_type": "code",
   "execution_count": 24,
   "metadata": {
    "collapsed": false
   },
   "outputs": [],
   "source": [
    "race = [r[7] for r in data]"
   ]
  },
  {
   "cell_type": "code",
   "execution_count": 49,
   "metadata": {
    "collapsed": false
   },
   "outputs": [
    {
     "data": {
      "text/plain": [
       "{'Asian/Pacific Islander': '3.53 out of every one hundred thousand',\n",
       " 'Black': '48.47 out of every one hundred thousand',\n",
       " 'Hispanic': '12.63 out of every one hundred thousand',\n",
       " 'Native American/Native Alaskan': '8.72 out of every one hundred thousand',\n",
       " 'White': '4.64 out of every one hundred thousand'}"
      ]
     },
     "execution_count": 49,
     "metadata": {},
     "output_type": "execute_result"
    }
   ],
   "source": [
    "homicide_race_counts = {}\n",
    "\n",
    "for i,race in enumerate(races):\n",
    "    if race not in homicide_race_counts:\n",
    "        homicide_race_counts[race] = 0\n",
    "    if intents[i] == \"Homicide\":\n",
    "        homicide_race_counts[race] += 1\n",
    "\n",
    "hom_per_100k = {}\n",
    "\n",
    "for k,v in homicide_race_counts.items():\n",
    "    hom_per_100k[k] = str(round((v/ mapping[k]) * 100000, 2)) + \" out of every one hundred thousand\"\n",
    "\n",
    "hom_per_100k"
   ]
  },
  {
   "cell_type": "code",
   "execution_count": 26,
   "metadata": {
    "collapsed": false
   },
   "outputs": [
    {
     "data": {
      "text/plain": [
       "{'Asian/Pacific Islander': 559,\n",
       " 'Black': 19510,\n",
       " 'Hispanic': 5634,\n",
       " 'Native American/Native Alaskan': 326,\n",
       " 'White': 9147}"
      ]
     },
     "execution_count": 26,
     "metadata": {},
     "output_type": "execute_result"
    }
   ],
   "source": [
    "homicide_race_counts"
   ]
  },
  {
   "cell_type": "code",
   "execution_count": 52,
   "metadata": {
    "collapsed": false
   },
   "outputs": [
    {
     "data": {
      "text/plain": [
       "{'Asian/Pacific Islander': '4.71 out of every one hundred thousand',\n",
       " 'Black': '8.28 out of every one hundred thousand',\n",
       " 'Hispanic': '7.11 out of every one hundred thousand',\n",
       " 'Native American/Native Alaskan': '14.84 out of every one hundred thousand',\n",
       " 'White': '28.06 out of every one hundred thousand'}"
      ]
     },
     "execution_count": 52,
     "metadata": {},
     "output_type": "execute_result"
    }
   ],
   "source": [
    "suicide_race_counts = {}\n",
    "for i, race in enumerate(races):\n",
    "    if race not in suicide_race_counts:\n",
    "        suicide_race_counts[race] = 0\n",
    "    if intents[i] == \"Suicide\":\n",
    "        suicide_race_counts[race] +=1\n",
    "\n",
    "suic_per_100k = {}\n",
    "\n",
    "for k, v in suicide_race_counts.items():\n",
    "    suic_per_100k[k] = str(round((v/ mapping[k]) * 100000, 2)) + \" out of every one hundred thousand\"\n",
    "\n",
    "suic_per_100k"
   ]
  },
  {
   "cell_type": "code",
   "execution_count": 54,
   "metadata": {
    "collapsed": false
   },
   "outputs": [
    {
     "data": {
      "text/plain": [
       "{'Asian/Pacific Islander': '0.08 out of every one hundred thousand people.',\n",
       " 'Black': '0.81 out of every one hundred thousand people.',\n",
       " 'Hispanic': '0.32 out of every one hundred thousand people.',\n",
       " 'Native American/Native Alaskan': '0.59 out of every one hundred thousand people.',\n",
       " 'White': '0.57 out of every one hundred thousand people.'}"
      ]
     },
     "execution_count": 54,
     "metadata": {},
     "output_type": "execute_result"
    }
   ],
   "source": [
    "accident_race_counts = {}\n",
    "\n",
    "for i, race in enumerate(races):\n",
    "    if race not in accident_race_counts:\n",
    "        accident_race_counts[race] = 0\n",
    "    if intents[i] == \"Accidental\":\n",
    "        accident_race_counts[race] += 1\n",
    "\n",
    "acc_per_100k = {}\n",
    "\n",
    "for k, v in accident_race_counts.items():\n",
    "    acc_per_100k[k] = str(round((v/mapping[k]) * 100000, 2)) + \" out of every one hundred thousand people.\"\n",
    "\n",
    "acc_per_100k\n",
    "\n",
    "\n"
   ]
  },
  {
   "cell_type": "code",
   "execution_count": 56,
   "metadata": {
    "collapsed": false
   },
   "outputs": [
    {
     "data": {
      "text/plain": [
       "{'01': 2829,\n",
       " '02': 2178,\n",
       " '03': 2780,\n",
       " '04': 2845,\n",
       " '05': 2976,\n",
       " '06': 3130,\n",
       " '07': 3269,\n",
       " '08': 3125,\n",
       " '09': 2966,\n",
       " '10': 2968,\n",
       " '11': 2919,\n",
       " '12': 3191}"
      ]
     },
     "execution_count": 56,
     "metadata": {},
     "output_type": "execute_result"
    }
   ],
   "source": [
    "months\n",
    "months_homicide_race = {}\n",
    "\n",
    "for i, month in enumerate(months):\n",
    "    if month not in months_homicide_race:\n",
    "        months_homicide_race[month] = 0\n",
    "    if intents[i] == \"Homicide\":\n",
    "        months_homicide_race[month] += 1\n",
    "        \n",
    "months_homicide_race"
   ]
  },
  {
   "cell_type": "code",
   "execution_count": 79,
   "metadata": {
    "collapsed": false
   },
   "outputs": [
    {
     "data": {
      "text/plain": [
       "('07', '02')"
      ]
     },
     "execution_count": 79,
     "metadata": {},
     "output_type": "execute_result"
    }
   ],
   "source": [
    "def keywithmaxval(d):\n",
    "     \"\"\" a) create a list of the dict's keys and values; \n",
    "         b) return the key with the max value\"\"\"  \n",
    "     v=list(d.values())\n",
    "     k=list(d.keys())\n",
    "     highest = k[v.index(max(v))]\n",
    "     lowest = k[v.index(min(v))]\n",
    "     return highest, lowest\n",
    "     \n",
    "\n",
    "keywithmaxval(months_homicide_race)"
   ]
  },
  {
   "cell_type": "markdown",
   "metadata": {},
   "source": [
    "# Highest to Lowest Count by Month"
   ]
  },
  {
   "cell_type": "code",
   "execution_count": 83,
   "metadata": {
    "collapsed": false
   },
   "outputs": [
    {
     "data": {
      "text/plain": [
       "['07', '12', '06', '08', '05', '10', '09', '11', '04', '01', '03', '02']"
      ]
     },
     "execution_count": 83,
     "metadata": {},
     "output_type": "execute_result"
    }
   ],
   "source": [
    "sorted(months_homicide_race, key=months_homicide_race.get, reverse=True)"
   ]
  },
  {
   "cell_type": "code",
   "execution_count": null,
   "metadata": {
    "collapsed": true
   },
   "outputs": [],
   "source": [
    "for month in months:\n",
    "    if month = '07':\n",
    "        month "
   ]
  }
 ],
 "metadata": {
  "kernelspec": {
   "display_name": "Python 3",
   "language": "python",
   "name": "python3"
  },
  "language_info": {
   "codemirror_mode": {
    "name": "ipython",
    "version": 3
   },
   "file_extension": ".py",
   "mimetype": "text/x-python",
   "name": "python",
   "nbconvert_exporter": "python",
   "pygments_lexer": "ipython3",
   "version": "3.6.5"
  }
 },
 "nbformat": 4,
 "nbformat_minor": 2
}
